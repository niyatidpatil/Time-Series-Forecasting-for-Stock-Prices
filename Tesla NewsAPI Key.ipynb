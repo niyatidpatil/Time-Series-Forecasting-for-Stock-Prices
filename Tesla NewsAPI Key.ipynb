{
 "cells": [
  {
   "cell_type": "code",
   "execution_count": 1,
   "id": "f0e71039",
   "metadata": {},
   "outputs": [
    {
     "name": "stdout",
     "output_type": "stream",
     "text": [
      "Collecting newsapi-python\n",
      "  Downloading newsapi_python-0.2.7-py2.py3-none-any.whl (7.9 kB)\n",
      "Requirement already satisfied: requests<3.0.0 in c:\\users\\niyu1\\anaconda3\\lib\\site-packages (from newsapi-python) (2.31.0)\n",
      "Requirement already satisfied: charset-normalizer<4,>=2 in c:\\users\\niyu1\\anaconda3\\lib\\site-packages (from requests<3.0.0->newsapi-python) (2.0.4)\n",
      "Requirement already satisfied: idna<4,>=2.5 in c:\\users\\niyu1\\anaconda3\\lib\\site-packages (from requests<3.0.0->newsapi-python) (3.4)\n",
      "Requirement already satisfied: urllib3<3,>=1.21.1 in c:\\users\\niyu1\\anaconda3\\lib\\site-packages (from requests<3.0.0->newsapi-python) (1.26.16)\n",
      "Requirement already satisfied: certifi>=2017.4.17 in c:\\users\\niyu1\\anaconda3\\lib\\site-packages (from requests<3.0.0->newsapi-python) (2023.11.17)\n",
      "Installing collected packages: newsapi-python\n",
      "Successfully installed newsapi-python-0.2.7\n",
      "Note: you may need to restart the kernel to use updated packages.\n"
     ]
    }
   ],
   "source": [
    "pip install newsapi-python"
   ]
  },
  {
   "cell_type": "code",
   "execution_count": 11,
   "id": "93b4fc81",
   "metadata": {},
   "outputs": [],
   "source": [
    "from newsapi import NewsApiClient\n",
    "import pandas as pd"
   ]
  },
  {
   "cell_type": "code",
   "execution_count": 12,
   "id": "8f992922",
   "metadata": {},
   "outputs": [],
   "source": [
    "news_api_key = 'db96f7b36c824fa0b0335c4933d12dfc'\n",
    "newsapi = NewsApiClient(api_key=news_api_key)\n",
    "keyword = 'Tesla'\n",
    "start_date = '2023-11-04'\n",
    "end_date = '2023-12-03'\n",
    "\n",
    "news_articles = newsapi.get_everything(q='Tesla', from_param='2023-11-04', to='2023-12-03', language='en')\n",
    "articles_data = [{'Date': article['publishedAt'], 'Title': article['title'], 'Description': article['description']} for article in news_articles['articles']]\n",
    "\n",
    "news_df = pd.DataFrame(articles_data)\n",
    "\n",
    "# Save the DataFrame to a CSV file for later use\n",
    "news_df.to_csv('news_data.csv', index=False)"
   ]
  },
  {
   "cell_type": "code",
   "execution_count": 14,
   "id": "49c93281",
   "metadata": {},
   "outputs": [
    {
     "name": "stdout",
     "output_type": "stream",
     "text": [
      "                   Date                                              Title  \\\n",
      "0   2023-11-27 18:11:03                              Tesla Is Suing Sweden   \n",
      "1   2023-11-27 19:05:47  Tesla sues Sweden for blocking license plate d...   \n",
      "2   2023-11-07 05:50:45  Lucid EVs will be able to access Tesla's Super...   \n",
      "3   2023-11-30 21:47:26  Tesla Cybertruck will usher in a new ‘Powersha...   \n",
      "4   2023-11-30 00:12:30  Tesla’s Cybertruck Is Two Years Late and Still...   \n",
      "..                  ...                                                ...   \n",
      "95  2023-11-10 12:48:32                        How to Make a Tesla Turbine   \n",
      "96  2023-11-30 20:44:00  Tesla Says Cybertruck Can Do 0-60 MPH in 2.6 S...   \n",
      "97  2023-11-30 22:14:35  Tesla Cybertruck delivery event: everything El...   \n",
      "98  2023-11-04 02:01:18    Elon Musk’s xAI launches ‘the best’ AI tomorrow   \n",
      "99  2023-11-06 11:51:19  Investors are buzzing about a generational buy...   \n",
      "\n",
      "                                          Description  \n",
      "0   Unions are boycotting Tesla’s business operati...  \n",
      "1   Tesla sued Sweden’s transportation agency and ...  \n",
      "2   Lucid's electric vehicles will be able to plug...  \n",
      "3   Tesla’s Cybertruck will be the company’s first...  \n",
      "4   After years of delays, Tesla will livestream i...  \n",
      "..                                                ...  \n",
      "95  How to Make a Tesla Turbine (Greenest Turbine)...  \n",
      "96                                                NaN  \n",
      "97                                                NaN  \n",
      "98  Elon Musk’s artificial intelligence startup xA...  \n",
      "99  John Hussman rejected Richard Bernstein's idea...  \n",
      "\n",
      "[100 rows x 3 columns]\n"
     ]
    }
   ],
   "source": [
    "import pandas as pd\n",
    "\n",
    "# Load your news_data DataFrame\n",
    "news_data = pd.read_csv('news_data.csv')\n",
    "\n",
    "#Convert the Date to a new format\n",
    "news_data['Date'] = pd.to_datetime(news_data['Date'])\n",
    "\n",
    "#The Desired Time format'%Y-%m-%d %H:%M:%S'\n",
    "new_time_format = '%Y-%m-%d %H:%M:%S'\n",
    "\n",
    "# Applying the new time format to the date coulmn \n",
    "news_data['Date'] = news_data['Date'].dt.strftime(new_time_format)\n",
    "\n",
    "#Print the DataFrame and downloading the new created news_datafile\n",
    "print(news_data)\n",
    "output_file_path = 'news_data.csv'\n",
    "news_data.to_csv(output_file_path, index=False)"
   ]
  },
  {
   "cell_type": "code",
   "execution_count": null,
   "id": "9805c8df",
   "metadata": {},
   "outputs": [],
   "source": []
  }
 ],
 "metadata": {
  "kernelspec": {
   "display_name": "Python 3 (ipykernel)",
   "language": "python",
   "name": "python3"
  },
  "language_info": {
   "codemirror_mode": {
    "name": "ipython",
    "version": 3
   },
   "file_extension": ".py",
   "mimetype": "text/x-python",
   "name": "python",
   "nbconvert_exporter": "python",
   "pygments_lexer": "ipython3",
   "version": "3.11.4"
  }
 },
 "nbformat": 4,
 "nbformat_minor": 5
}
